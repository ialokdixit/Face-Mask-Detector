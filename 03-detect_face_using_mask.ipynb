{
 "cells": [
  {
   "cell_type": "markdown",
   "metadata": {},
   "source": [
    "### Imports"
   ]
  },
  {
   "cell_type": "code",
   "execution_count": 1,
   "metadata": {},
   "outputs": [],
   "source": [
    "# Import the required modules\n",
    "import cv2\n",
    "from IPython.display import clear_output\n",
    "import time\n",
    "import PIL.Image\n",
    "from io import BytesIO\n",
    "import IPython.display\n",
    "import numpy as np\n",
    "import glob\n",
    "\n",
    "from tensorflow.keras.preprocessing.image import img_to_array\n",
    "from tensorflow.keras.models import load_model"
   ]
  },
  {
   "cell_type": "markdown",
   "metadata": {},
   "source": [
    "----"
   ]
  },
  {
   "cell_type": "markdown",
   "metadata": {},
   "source": [
    "### Open File Choose screen"
   ]
  },
  {
   "cell_type": "code",
   "execution_count": 2,
   "metadata": {},
   "outputs": [],
   "source": [
    "%gui qt\n",
    "\n",
    "from PyQt5.QtWidgets import QFileDialog\n",
    "\n",
    "def gui_fname(dir=None):\n",
    "    \"\"\"Select a file via a dialog and return the file name.\"\"\"\n",
    "    if dir is None: dir ='./'\n",
    "    fname = QFileDialog.getOpenFileName(None, \"Select data file...\", \n",
    "                dir, filter=\"All files (*);; SM Files (*.sm)\")\n",
    "    return fname[0]"
   ]
  },
  {
   "cell_type": "markdown",
   "metadata": {},
   "source": [
    "### Open WebCAM from OpenCV on Jupyter Notebook"
   ]
  },
  {
   "cell_type": "code",
   "execution_count": 3,
   "metadata": {},
   "outputs": [],
   "source": [
    "#Use 'jpeg' instead of 'png' (~5 times faster)\n",
    "def array_to_image(a, fmt='jpeg'):\n",
    "    #Create binary stream object\n",
    "    f = BytesIO()\n",
    "    \n",
    "    #Convert array to binary stream object\n",
    "    PIL.Image.fromarray(a).save(f, fmt)\n",
    "    \n",
    "    return IPython.display.Image(data=f.getvalue())"
   ]
  },
  {
   "cell_type": "code",
   "execution_count": 4,
   "metadata": {},
   "outputs": [],
   "source": [
    "def get_frame(cam):\n",
    "    # Capture frame-by-frame\n",
    "    ret, frame = cam.read()\n",
    "    \n",
    "    #flip image for natural viewing\n",
    "    frame = cv2.flip(frame, 1)\n",
    "    \n",
    "    return frame"
   ]
  },
  {
   "cell_type": "code",
   "execution_count": 5,
   "metadata": {},
   "outputs": [],
   "source": [
    "def show_webcam():\n",
    "    cam = cv2.VideoCapture(0)\n",
    "\n",
    "    d = IPython.display.display(\"\", display_id=1)\n",
    "    d2 = IPython.display.display(\"\", display_id=2)\n",
    "    predict_data_steps = 0\n",
    "    \n",
    "    while True:\n",
    "        try:\n",
    "            t1 = time.time()\n",
    "            frame = get_frame(cam)\n",
    "            frame = cv2.cvtColor(frame, cv2.COLOR_BGR2RGB)\n",
    "            \n",
    "            predict_data_steps += 1\n",
    "            \n",
    "            #if predict_data_steps % 10 == 0:\n",
    "            frame = detect_face_cnn(frame)\n",
    "                \n",
    "            im = array_to_image(frame)\n",
    "\n",
    "            d.update(im)\n",
    "\n",
    "            t2 = time.time()\n",
    "\n",
    "            s = f\"\"\"{int(1/(t2-t1))} FPS\"\"\"\n",
    "            d2.update( IPython.display.HTML(s) )\n",
    "        except KeyboardInterrupt:\n",
    "            print()\n",
    "            cam.release()\n",
    "            IPython.display.clear_output()\n",
    "            print (\"Stream stopped\")\n",
    "            break"
   ]
  },
  {
   "cell_type": "markdown",
   "metadata": {},
   "source": [
    "----"
   ]
  },
  {
   "cell_type": "markdown",
   "metadata": {},
   "source": [
    "### Detect faces on image using OpenCV"
   ]
  },
  {
   "cell_type": "code",
   "execution_count": 6,
   "metadata": {},
   "outputs": [],
   "source": [
    "# Face detection with OpenCV and deep learning (Adrian)\n",
    "# https://www.pyimagesearch.com/2018/02/26/face-detection-with-opencv-and-deep-learning/"
   ]
  },
  {
   "cell_type": "code",
   "execution_count": 7,
   "metadata": {},
   "outputs": [],
   "source": [
    "# load our serialized model from disk\n",
    "caffe_model = 'deploy.prototxt.txt'\n",
    "caffe_trained = 'res10_300x300_ssd_iter_140000.caffemodel'\n",
    "caffe_confidence = 0.30\n",
    "model_folder = './model/'\n",
    "mask_model = \"mask_mobile_net.h5\""
   ]
  },
  {
   "cell_type": "code",
   "execution_count": 8,
   "metadata": {},
   "outputs": [
    {
     "name": "stdout",
     "output_type": "stream",
     "text": [
      "[INFO] loading model...\n"
     ]
    }
   ],
   "source": [
    "print(\"[INFO] loading model...\")\n",
    "net = cv2.dnn.readNetFromCaffe(model_folder + caffe_model, \n",
    "                               model_folder + caffe_trained\n",
    "                              )\n",
    "\n",
    "\n",
    "model = load_model(model_folder + mask_model)"
   ]
  },
  {
   "cell_type": "markdown",
   "metadata": {},
   "source": [
    "Detect faces on image and call mask predictor"
   ]
  },
  {
   "cell_type": "code",
   "execution_count": 9,
   "metadata": {},
   "outputs": [],
   "source": [
    "def detect_face_cnn(image, save = False, show = False):\n",
    "    \n",
    "    if image is not None:\n",
    "        (h, w) = image.shape[:2]\n",
    "        \n",
    "        image_resized = cv2.resize(image, (300, 300))\n",
    "\n",
    "        blob = cv2.dnn.blobFromImage(image_resized, \n",
    "                                     1.0,\n",
    "                                     (300, 300), \n",
    "                                     (104.0, \n",
    "                                      177.0, \n",
    "                                      123.0))\n",
    "        net.setInput(blob)\n",
    "        detections = net.forward()\n",
    "\n",
    "        for i in range(0, detections.shape[2]):\n",
    "            # extract the confidence (i.e., probability) associated with the prediction\n",
    "            confidence = detections[0, 0, i, 2]\n",
    "           \n",
    "            # filter out weak detections by ensuring the `confidence` is\n",
    "            # greater than the minimum confidence\n",
    "            if confidence > caffe_confidence:\n",
    "                # compute the (x, y)-coordinates of the bounding box for the\n",
    "                # object\n",
    "                box = detections[0, 0, i, 3:7] * np.array([w, h, w, h])\n",
    "                (startX, startY, endX, endY) = box.astype(\"int\")\n",
    "\n",
    "                try:\n",
    "                    img_crop =   image[startY-10:endY+10, startX-10:endX+10]\n",
    "\n",
    "                    # predict mask or not\n",
    "                    pred, pred_res = predict_mask(img_crop)\n",
    "                    \n",
    "                    log_text = \"Face Detection confidence:{:2}\".format(round(confidence,2))\n",
    "                    log_text = log_text + \", mask detection:{:2}\".format(pred_res)\n",
    "                    print(log_text)\n",
    "\n",
    "                    label = \"MASK\" if pred_res == 0 else \"NO-MASK\"\n",
    "                    color = (0,0,255) if pred_res == 0 else (255,0,0)\n",
    "\n",
    "                    cv2.putText(image, label, (startX, startY), cv2.FONT_HERSHEY_SIMPLEX, 0.5, color, 2)\n",
    "                    cv2.rectangle(image, (startX, startY), (endX, endY), color)\n",
    "                except:\n",
    "                    print(\"found crop errors {}\".format(round(confidence,2)))\n",
    "\n",
    "        #if save:\n",
    "        #    end_file = file_name.split(\"\\\\\")[-1]\n",
    "        #    save_file_path = file_name + \"\\\\{:05}_{}\".format(end_file)\n",
    "        #    cv2.imwrite(save_file_path,image_all)\n",
    "\n",
    "        if show:\n",
    "            cv2.imshow(\"Image\", image)\n",
    "            cv2.waitKey(0)\n",
    "            cv2.destroyAllWindows()\n",
    "            \n",
    "        return image\n",
    "    else:\n",
    "        print(\"image not found!\")"
   ]
  },
  {
   "cell_type": "markdown",
   "metadata": {},
   "source": [
    "Predict if face is using mask or not"
   ]
  },
  {
   "cell_type": "code",
   "execution_count": 10,
   "metadata": {},
   "outputs": [],
   "source": [
    "def predict_mask(image):\n",
    "    image = cv2.resize(image, (224, 224))\n",
    "    image = image.astype(\"float\") / 255.0\n",
    "    image = img_to_array(image)\n",
    "    image = np.expand_dims(image, axis=0)\n",
    "    \n",
    "    # make predictions on the input image\n",
    "    pred = model.predict(image)\n",
    "    pred_res = pred.argmax(axis=1)[0]\n",
    "    \n",
    "    return pred, pred_res"
   ]
  },
  {
   "cell_type": "markdown",
   "metadata": {},
   "source": [
    "### Check image source from file or Webcam"
   ]
  },
  {
   "cell_type": "code",
   "execution_count": 11,
   "metadata": {},
   "outputs": [],
   "source": [
    "# LOCAL or WEBCAM\n",
    "SOURCE = \"WEBCAM\""
   ]
  },
  {
   "cell_type": "code",
   "execution_count": 12,
   "metadata": {},
   "outputs": [
    {
     "name": "stdout",
     "output_type": "stream",
     "text": [
      "Stream stopped\n"
     ]
    }
   ],
   "source": [
    "# select image or webcam\n",
    "if SOURCE == 'LOCAL':\n",
    "    file_name = gui_fname()\n",
    "    image = cv2.imread(file_name)\n",
    "    detect_face_cnn(image, show = True)\n",
    "else:\n",
    "    show_webcam()"
   ]
  },
  {
   "cell_type": "markdown",
   "metadata": {},
   "source": [
    "Check all files on test folder"
   ]
  },
  {
   "cell_type": "code",
   "execution_count": 14,
   "metadata": {},
   "outputs": [
    {
     "name": "stdout",
     "output_type": "stream",
     "text": [
      "./data/test\\mask1.jpg\n",
      "Face Detection confidence:0.9100000262260437, mask detection: 0\n",
      "found crop errors 0.9100000262260437\n",
      "./data/test\\mask10.jpeg\n",
      "Face Detection confidence:0.9599999785423279, mask detection: 0\n",
      "Face Detection confidence:0.7200000286102295, mask detection: 0\n",
      "./data/test\\mask11.jpg\n",
      "./data/test\\mask12.jpg\n",
      "Face Detection confidence:0.949999988079071, mask detection: 0\n",
      "Face Detection confidence:0.6100000143051147, mask detection: 0\n",
      "Face Detection confidence:0.47999998927116394, mask detection: 0\n",
      "Face Detection confidence:0.41999998688697815, mask detection: 0\n",
      "Face Detection confidence:0.36000001430511475, mask detection: 0\n",
      "./data/test\\mask13.jpg\n",
      "Face Detection confidence:0.9900000095367432, mask detection: 0\n",
      "./data/test\\mask14.jpg\n",
      "Face Detection confidence:0.9900000095367432, mask detection: 0\n",
      "./data/test\\mask15.jpg\n",
      "Face Detection confidence:1.0, mask detection: 0\n",
      "./data/test\\mask16.jpg\n",
      "Face Detection confidence:0.8799999952316284, mask detection: 0\n",
      "./data/test\\mask17.jpg\n",
      "Face Detection confidence:1.0, mask detection: 0\n",
      "found crop errors 0.9700000286102295\n",
      "Face Detection confidence:0.949999988079071, mask detection: 1\n",
      "found crop errors 0.6600000262260437\n",
      "found crop errors 0.6299999952316284\n",
      "./data/test\\mask18.png\n",
      "found crop errors 0.9900000095367432\n",
      "Face Detection confidence:0.9800000190734863, mask detection: 0\n",
      "found crop errors 0.8700000047683716\n",
      "found crop errors 0.8600000143051147\n",
      "found crop errors 0.4099999964237213\n",
      "found crop errors 0.38999998569488525\n",
      "found crop errors 0.33000001311302185\n",
      "found crop errors 0.33000001311302185\n",
      "found crop errors 0.30000001192092896\n",
      "./data/test\\mask19.jpeg\n",
      "found crop errors 0.8700000047683716\n",
      "./data/test\\mask2.jpg\n",
      "Face Detection confidence:0.9700000286102295, mask detection: 0\n",
      "Face Detection confidence:0.3199999928474426, mask detection: 0\n",
      "./data/test\\mask20.jpg\n",
      "Face Detection confidence:0.5199999809265137, mask detection: 0\n",
      "./data/test\\mask21.jpg\n",
      "Face Detection confidence:1.0, mask detection: 0\n",
      "./data/test\\mask22.jpg\n",
      "Face Detection confidence:0.9800000190734863, mask detection: 0\n",
      "./data/test\\mask23.jpg\n",
      "found crop errors 1.0\n",
      "./data/test\\mask24.jpg\n",
      "Face Detection confidence:1.0, mask detection: 0\n",
      "./data/test\\mask3.jpg\n",
      "Face Detection confidence:1.0, mask detection: 0\n",
      "./data/test\\mask4.jpg\n",
      "Face Detection confidence:0.9800000190734863, mask detection: 0\n",
      "./data/test\\mask5.jpg\n",
      "Face Detection confidence:1.0, mask detection: 0\n",
      "Face Detection confidence:0.9300000071525574, mask detection: 0\n",
      "./data/test\\mask6.jpg\n",
      "found crop errors 1.0\n",
      "Face Detection confidence:0.9900000095367432, mask detection: 0\n",
      "found crop errors 0.9300000071525574\n",
      "found crop errors 0.7900000214576721\n",
      "found crop errors 0.47999998927116394\n",
      "found crop errors 0.3700000047683716\n",
      "found crop errors 0.33000001311302185\n",
      "./data/test\\mask7.jpg\n",
      "Face Detection confidence:0.9399999976158142, mask detection: 0\n",
      "./data/test\\mask8.jpg\n",
      "Face Detection confidence:1.0, mask detection: 0\n",
      "Face Detection confidence:0.9599999785423279, mask detection: 0\n",
      "Face Detection confidence:0.949999988079071, mask detection: 0\n",
      "Face Detection confidence:0.9100000262260437, mask detection: 0\n",
      "Face Detection confidence:0.8500000238418579, mask detection: 0\n",
      "Face Detection confidence:0.8399999737739563, mask detection: 0\n",
      "Face Detection confidence:0.6600000262260437, mask detection: 0\n",
      "./data/test\\mask9.jpg\n",
      "Face Detection confidence:0.4000000059604645, mask detection: 0\n",
      "Face Detection confidence:0.3499999940395355, mask detection: 0\n",
      "./data/test\\no-mask1.jpg\n",
      "Face Detection confidence:0.9200000166893005, mask detection: 0\n",
      "./data/test\\no-mask2.jpg\n",
      "Face Detection confidence:1.0, mask detection: 1\n",
      "Face Detection confidence:0.9900000095367432, mask detection: 1\n",
      "Face Detection confidence:0.9800000190734863, mask detection: 0\n",
      "./data/test\\no-mask3.jpg\n",
      "Face Detection confidence:1.0, mask detection: 1\n",
      "Face Detection confidence:0.9599999785423279, mask detection: 0\n",
      "./data/test\\people1.jpg\n",
      "Face Detection confidence:0.800000011920929, mask detection: 1\n",
      "Face Detection confidence:0.7400000095367432, mask detection: 0\n",
      "Face Detection confidence:0.7099999785423279, mask detection: 1\n",
      "Face Detection confidence:0.5199999809265137, mask detection: 0\n",
      "Face Detection confidence:0.5, mask detection: 0\n",
      "Face Detection confidence:0.3799999952316284, mask detection: 0\n",
      "./data/test\\people10.jpg\n",
      "Face Detection confidence:0.949999988079071, mask detection: 0\n",
      "./data/test\\people11.webp\n",
      "Face Detection confidence:0.9800000190734863, mask detection: 0\n",
      "Face Detection confidence:0.9599999785423279, mask detection: 0\n",
      "Face Detection confidence:0.7599999904632568, mask detection: 0\n",
      "./data/test\\people12.jpg\n",
      "Face Detection confidence:0.9599999785423279, mask detection: 1\n",
      "Face Detection confidence:0.949999988079071, mask detection: 1\n",
      "Face Detection confidence:0.6700000166893005, mask detection: 0\n",
      "Face Detection confidence:0.5, mask detection: 0\n",
      "Face Detection confidence:0.44999998807907104, mask detection: 0\n",
      "./data/test\\people13.jpg\n",
      "Face Detection confidence:0.8799999952316284, mask detection: 0\n",
      "Face Detection confidence:0.6100000143051147, mask detection: 0\n",
      "Face Detection confidence:0.41999998688697815, mask detection: 0\n",
      "Face Detection confidence:0.3700000047683716, mask detection: 0\n",
      "./data/test\\people14.jpg\n",
      "Face Detection confidence:0.7900000214576721, mask detection: 0\n",
      "Face Detection confidence:0.4000000059604645, mask detection: 0\n",
      "Face Detection confidence:0.3499999940395355, mask detection: 0\n",
      "Face Detection confidence:0.33000001311302185, mask detection: 0\n",
      "./data/test\\people2.jpg\n",
      "Face Detection confidence:0.9100000262260437, mask detection: 0\n",
      "Face Detection confidence:0.8600000143051147, mask detection: 0\n",
      "Face Detection confidence:0.699999988079071, mask detection: 0\n",
      "./data/test\\people3.jpg\n",
      "Face Detection confidence:1.0, mask detection: 0\n",
      "Face Detection confidence:0.7200000286102295, mask detection: 0\n",
      "./data/test\\people4.jpg\n",
      "found crop errors 0.8399999737739563\n",
      "./data/test\\people5.jpg\n",
      "Face Detection confidence:0.9800000190734863, mask detection: 0\n",
      "Face Detection confidence:0.8399999737739563, mask detection: 0\n",
      "Face Detection confidence:0.6700000166893005, mask detection: 1\n",
      "Face Detection confidence:0.5699999928474426, mask detection: 0\n",
      "Face Detection confidence:0.4300000071525574, mask detection: 0\n",
      "./data/test\\people6.jpg\n",
      "Face Detection confidence:1.0, mask detection: 0\n",
      "Face Detection confidence:1.0, mask detection: 0\n",
      "./data/test\\people7.jpg\n",
      "Face Detection confidence:0.36000001430511475, mask detection: 0\n",
      "./data/test\\people8.jpg\n",
      "Face Detection confidence:0.8500000238418579, mask detection: 0\n",
      "Face Detection confidence:0.47999998927116394, mask detection: 0\n",
      "Face Detection confidence:0.3499999940395355, mask detection: 1\n",
      "./data/test\\people9.jpg\n",
      "Face Detection confidence:1.0, mask detection: 0\n",
      "Face Detection confidence:1.0, mask detection: 0\n",
      "Face Detection confidence:1.0, mask detection: 0\n",
      "./data/test\\test2.jpg\n",
      "Face Detection confidence:0.8199999928474426, mask detection: 1\n",
      "Face Detection confidence:0.7099999785423279, mask detection: 0\n",
      "Face Detection confidence:0.5099999904632568, mask detection: 1\n",
      "Face Detection confidence:0.44999998807907104, mask detection: 1\n",
      "Face Detection confidence:0.3700000047683716, mask detection: 1\n",
      "Face Detection confidence:0.3400000035762787, mask detection: 1\n",
      "Face Detection confidence:0.33000001311302185, mask detection: 1\n",
      "Face Detection confidence:0.3199999928474426, mask detection: 1\n"
     ]
    }
   ],
   "source": [
    "files_path = './data/test/*'\n",
    "\n",
    "files_list = glob.glob(files_path)\n",
    "\n",
    "for i, file in enumerate(files_list):\n",
    "    try:\n",
    "        print(file)\n",
    "        image = cv2.imread(file)\n",
    "        detect_face_cnn(image, show = True)\n",
    "    except Exception as ex:\n",
    "        print(ex)    "
   ]
  },
  {
   "cell_type": "code",
   "execution_count": null,
   "metadata": {},
   "outputs": [],
   "source": []
  }
 ],
 "metadata": {
  "kernelspec": {
   "display_name": "Python 3",
   "language": "python",
   "name": "python3"
  },
  "language_info": {
   "codemirror_mode": {
    "name": "ipython",
    "version": 3
   },
   "file_extension": ".py",
   "mimetype": "text/x-python",
   "name": "python",
   "nbconvert_exporter": "python",
   "pygments_lexer": "ipython3",
   "version": "3.7.7"
  }
 },
 "nbformat": 4,
 "nbformat_minor": 2
}
